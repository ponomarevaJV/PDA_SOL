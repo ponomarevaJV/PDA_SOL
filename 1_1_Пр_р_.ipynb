{
  "nbformat": 4,
  "nbformat_minor": 0,
  "metadata": {
    "colab": {
      "provenance": [],
      "authorship_tag": "ABX9TyPrMmHWTtb/EbgeLTCTiInJ",
      "include_colab_link": true
    },
    "kernelspec": {
      "name": "python3",
      "display_name": "Python 3"
    },
    "language_info": {
      "name": "python"
    }
  },
  "cells": [
    {
      "cell_type": "markdown",
      "metadata": {
        "id": "view-in-github",
        "colab_type": "text"
      },
      "source": [
        "<a href=\"https://colab.research.google.com/github/ponomarevaJV/PDA_SOL/blob/main/1_1_%D0%9F%D1%80_%D1%80_.ipynb\" target=\"_parent\"><img src=\"https://colab.research.google.com/assets/colab-badge.svg\" alt=\"Open In Colab\"/></a>"
      ]
    },
    {
      "cell_type": "code",
      "execution_count": 1,
      "metadata": {
        "colab": {
          "base_uri": "https://localhost:8080/"
        },
        "id": "SwHKdpAnUqRF",
        "outputId": "07d0f009-a2d1-412e-9903-6906ecade5b0"
      },
      "outputs": [
        {
          "output_type": "stream",
          "name": "stdout",
          "text": [
            "Mounted at /content/drive\n"
          ]
        }
      ],
      "source": [
        "from google.colab import drive\n",
        "drive.mount('/content/drive')"
      ]
    },
    {
      "cell_type": "code",
      "source": [
        "ls"
      ],
      "metadata": {
        "colab": {
          "base_uri": "https://localhost:8080/"
        },
        "id": "ri8AzdjbUznp",
        "outputId": "df8a718b-6cc2-4005-cd59-a89049e81dd5"
      },
      "execution_count": 2,
      "outputs": [
        {
          "output_type": "stream",
          "name": "stdout",
          "text": [
            "\u001b[0m\u001b[01;34mdrive\u001b[0m/  \u001b[01;34msample_data\u001b[0m/\n"
          ]
        }
      ]
    },
    {
      "cell_type": "code",
      "source": [
        "cd /content/drive/MyDrive/2 семестр /Корпоративные платформы для хранения и анализа больших данных /ПР 1"
      ],
      "metadata": {
        "colab": {
          "base_uri": "https://localhost:8080/"
        },
        "id": "fHbYESpfVFsh",
        "outputId": "524e71e5-96d5-4b6d-b75c-2ca16b18abb4"
      },
      "execution_count": 3,
      "outputs": [
        {
          "output_type": "stream",
          "name": "stdout",
          "text": [
            "/content/drive/MyDrive/2 семестр /Корпоративные платформы для хранения и анализа больших данных /ПР 1\n"
          ]
        }
      ]
    },
    {
      "cell_type": "code",
      "source": [
        "!pip install \"dask[complete]\""
      ],
      "metadata": {
        "colab": {
          "base_uri": "https://localhost:8080/"
        },
        "id": "XB8mbXUyVTZq",
        "outputId": "70339078-ccba-47eb-abf3-c68df9afd1aa"
      },
      "execution_count": 4,
      "outputs": [
        {
          "output_type": "stream",
          "name": "stdout",
          "text": [
            "Requirement already satisfied: dask[complete] in /usr/local/lib/python3.10/dist-packages (2023.8.1)\n",
            "Requirement already satisfied: click>=8.0 in /usr/local/lib/python3.10/dist-packages (from dask[complete]) (8.1.7)\n",
            "Requirement already satisfied: cloudpickle>=1.5.0 in /usr/local/lib/python3.10/dist-packages (from dask[complete]) (2.2.1)\n",
            "Requirement already satisfied: fsspec>=2021.09.0 in /usr/local/lib/python3.10/dist-packages (from dask[complete]) (2023.6.0)\n",
            "Requirement already satisfied: packaging>=20.0 in /usr/local/lib/python3.10/dist-packages (from dask[complete]) (24.0)\n",
            "Requirement already satisfied: partd>=1.2.0 in /usr/local/lib/python3.10/dist-packages (from dask[complete]) (1.4.1)\n",
            "Requirement already satisfied: pyyaml>=5.3.1 in /usr/local/lib/python3.10/dist-packages (from dask[complete]) (6.0.1)\n",
            "Requirement already satisfied: toolz>=0.10.0 in /usr/local/lib/python3.10/dist-packages (from dask[complete]) (0.12.1)\n",
            "Requirement already satisfied: importlib-metadata>=4.13.0 in /usr/local/lib/python3.10/dist-packages (from dask[complete]) (7.1.0)\n",
            "Requirement already satisfied: pyarrow>=7.0 in /usr/local/lib/python3.10/dist-packages (from dask[complete]) (14.0.2)\n",
            "Collecting lz4>=4.3.2 (from dask[complete])\n",
            "  Downloading lz4-4.3.3-cp310-cp310-manylinux_2_17_x86_64.manylinux2014_x86_64.whl (1.3 MB)\n",
            "\u001b[2K     \u001b[90m━━━━━━━━━━━━━━━━━━━━━━━━━━━━━━━━━━━━━━━━\u001b[0m \u001b[32m1.3/1.3 MB\u001b[0m \u001b[31m5.6 MB/s\u001b[0m eta \u001b[36m0:00:00\u001b[0m\n",
            "\u001b[?25hRequirement already satisfied: zipp>=0.5 in /usr/local/lib/python3.10/dist-packages (from importlib-metadata>=4.13.0->dask[complete]) (3.18.1)\n",
            "Requirement already satisfied: locket in /usr/local/lib/python3.10/dist-packages (from partd>=1.2.0->dask[complete]) (1.0.0)\n",
            "Requirement already satisfied: numpy>=1.16.6 in /usr/local/lib/python3.10/dist-packages (from pyarrow>=7.0->dask[complete]) (1.25.2)\n",
            "Requirement already satisfied: distributed==2023.8.1 in /usr/local/lib/python3.10/dist-packages (from dask[complete]) (2023.8.1)\n",
            "Requirement already satisfied: bokeh>=2.4.2 in /usr/local/lib/python3.10/dist-packages (from dask[complete]) (3.3.4)\n",
            "Requirement already satisfied: jinja2>=2.10.3 in /usr/local/lib/python3.10/dist-packages (from dask[complete]) (3.1.3)\n",
            "Requirement already satisfied: pandas>=1.3 in /usr/local/lib/python3.10/dist-packages (from dask[complete]) (2.0.3)\n",
            "Requirement already satisfied: msgpack>=1.0.0 in /usr/local/lib/python3.10/dist-packages (from distributed==2023.8.1->dask[complete]) (1.0.8)\n",
            "Requirement already satisfied: psutil>=5.7.2 in /usr/local/lib/python3.10/dist-packages (from distributed==2023.8.1->dask[complete]) (5.9.5)\n",
            "Requirement already satisfied: sortedcontainers>=2.0.5 in /usr/local/lib/python3.10/dist-packages (from distributed==2023.8.1->dask[complete]) (2.4.0)\n",
            "Requirement already satisfied: tblib>=1.6.0 in /usr/local/lib/python3.10/dist-packages (from distributed==2023.8.1->dask[complete]) (3.0.0)\n",
            "Requirement already satisfied: tornado>=6.0.4 in /usr/local/lib/python3.10/dist-packages (from distributed==2023.8.1->dask[complete]) (6.3.3)\n",
            "Requirement already satisfied: urllib3>=1.24.3 in /usr/local/lib/python3.10/dist-packages (from distributed==2023.8.1->dask[complete]) (2.0.7)\n",
            "Requirement already satisfied: zict>=2.2.0 in /usr/local/lib/python3.10/dist-packages (from distributed==2023.8.1->dask[complete]) (3.0.0)\n",
            "Requirement already satisfied: contourpy>=1 in /usr/local/lib/python3.10/dist-packages (from bokeh>=2.4.2->dask[complete]) (1.2.0)\n",
            "Requirement already satisfied: pillow>=7.1.0 in /usr/local/lib/python3.10/dist-packages (from bokeh>=2.4.2->dask[complete]) (9.4.0)\n",
            "Requirement already satisfied: xyzservices>=2021.09.1 in /usr/local/lib/python3.10/dist-packages (from bokeh>=2.4.2->dask[complete]) (2023.10.1)\n",
            "Requirement already satisfied: MarkupSafe>=2.0 in /usr/local/lib/python3.10/dist-packages (from jinja2>=2.10.3->dask[complete]) (2.1.5)\n",
            "Requirement already satisfied: python-dateutil>=2.8.2 in /usr/local/lib/python3.10/dist-packages (from pandas>=1.3->dask[complete]) (2.8.2)\n",
            "Requirement already satisfied: pytz>=2020.1 in /usr/local/lib/python3.10/dist-packages (from pandas>=1.3->dask[complete]) (2023.4)\n",
            "Requirement already satisfied: tzdata>=2022.1 in /usr/local/lib/python3.10/dist-packages (from pandas>=1.3->dask[complete]) (2024.1)\n",
            "Requirement already satisfied: six>=1.5 in /usr/local/lib/python3.10/dist-packages (from python-dateutil>=2.8.2->pandas>=1.3->dask[complete]) (1.16.0)\n",
            "Installing collected packages: lz4\n",
            "Successfully installed lz4-4.3.3\n"
          ]
        }
      ]
    },
    {
      "cell_type": "code",
      "source": [
        "# import libraries\n",
        "import sys\n",
        "import os\n",
        "\n",
        "## import dask libraries\n",
        "import dask.dataframe as dd\n",
        "from dask.diagnostics import ProgressBar\n",
        "\n",
        "# import libraries\n",
        "import pandas as pd"
      ],
      "metadata": {
        "id": "HWQ9GiNyVbXU"
      },
      "execution_count": 5,
      "outputs": []
    },
    {
      "cell_type": "code",
      "source": [
        "cwd = os.getcwd()\n",
        "\n",
        "# print\n",
        "print('', sys.executable)\n",
        "print('', cwd)"
      ],
      "metadata": {
        "colab": {
          "base_uri": "https://localhost:8080/"
        },
        "id": "exJfDxNNVmSK",
        "outputId": "6bab1e07-a2db-44ec-e0ca-eb6d96b00c17"
      },
      "execution_count": 6,
      "outputs": [
        {
          "output_type": "stream",
          "name": "stdout",
          "text": [
            " /usr/bin/python3\n",
            " /content/drive/MyDrive/2 семестр /Корпоративные платформы для хранения и анализа больших данных /ПР 1\n"
          ]
        }
      ]
    },
    {
      "cell_type": "code",
      "source": [
        "df = dd.read_csv('/content/drive/MyDrive/2 семестр /Корпоративные платформы для хранения и анализа больших данных /ПР 1/Parking_Violations_Issued_-_Fiscal_Year_2016.csv',\n",
        "dtype={\n",
        "    'House Number': 'object',\n",
        "    'Intersecting Street': 'object',\n",
        "    'Issuer Squad': 'object',\n",
        "    'Time First Observed': 'object',\n",
        "    'Unregistered Vehicle?': 'object',\n",
        "    'Violation Description': 'object',\n",
        "    'Violation Legal Code': 'object',\n",
        "    'Violation Post Code': 'object',\n",
        "    'Date First Observed': 'float64',\n",
        "    'Feet From Curb': 'float64',\n",
        "    'Issuer Code': 'float64',\n",
        "    'Issuer Precinct': 'float64',\n",
        "    'Law Section': 'float64',\n",
        "    'Vehicle Expiration Date': 'float64',\n",
        "    'Vehicle Year': 'float64',\n",
        "    'Violation Precinct': 'float64'})"
      ],
      "metadata": {
        "id": "CbGk8zpQVxYn"
      },
      "execution_count": 10,
      "outputs": []
    },
    {
      "cell_type": "code",
      "source": [
        "missing_values = df.isnull().sum()\n",
        "missing_values"
      ],
      "metadata": {
        "colab": {
          "base_uri": "https://localhost:8080/"
        },
        "id": "2ljZX-G2WuxL",
        "outputId": "14ca9c78-4fe0-45ed-b64f-b4b130329d5e"
      },
      "execution_count": 12,
      "outputs": [
        {
          "output_type": "execute_result",
          "data": {
            "text/plain": [
              "Dask Series Structure:\n",
              "npartitions=1\n",
              "BBL               int64\n",
              "Violation Time      ...\n",
              "dtype: int64\n",
              "Dask Name: to_pyarrow_string, 6 graph layers"
            ]
          },
          "metadata": {},
          "execution_count": 12
        }
      ]
    },
    {
      "cell_type": "code",
      "source": [
        "mysize = df.index.size\n",
        "missing_count = ((missing_values / mysize) * 100)\n",
        "missing_count"
      ],
      "metadata": {
        "colab": {
          "base_uri": "https://localhost:8080/"
        },
        "id": "6mo2eaAwZZlE",
        "outputId": "ad96e14f-16f0-4e05-a01c-109781c9fb9a"
      },
      "execution_count": 13,
      "outputs": [
        {
          "output_type": "execute_result",
          "data": {
            "text/plain": [
              "Dask Series Structure:\n",
              "npartitions=1\n",
              "BBL               float64\n",
              "Violation Time        ...\n",
              "dtype: float64\n",
              "Dask Name: mul, 11 graph layers"
            ]
          },
          "metadata": {},
          "execution_count": 13
        }
      ]
    },
    {
      "cell_type": "code",
      "source": [
        "with ProgressBar():\n",
        " missing_count_percent = missing_count.compute()\n",
        "missing_count_percent"
      ],
      "metadata": {
        "colab": {
          "base_uri": "https://localhost:8080/"
        },
        "id": "OjOLe2QPgUn7",
        "outputId": "9f6dcf2b-0097-4e7c-b7b6-2dd76292343f"
      },
      "execution_count": 14,
      "outputs": [
        {
          "output_type": "stream",
          "name": "stdout",
          "text": [
            "[                                        ] | 0% Completed | 15.03 s"
          ]
        },
        {
          "output_type": "stream",
          "name": "stderr",
          "text": [
            "/usr/local/lib/python3.10/dist-packages/dask/dataframe/io/csv.py:195: DtypeWarning: Columns (36) have mixed types. Specify dtype option on import or set low_memory=False.\n",
            "  df = reader(bio, **kwargs)\n"
          ]
        },
        {
          "output_type": "stream",
          "name": "stdout",
          "text": [
            "[                                        ] | 0% Completed | 16.60 s"
          ]
        },
        {
          "output_type": "stream",
          "name": "stderr",
          "text": [
            "/usr/local/lib/python3.10/dist-packages/dask/dataframe/io/csv.py:195: DtypeWarning: Columns (17,21,22,30,31,32,36) have mixed types. Specify dtype option on import or set low_memory=False.\n",
            "  df = reader(bio, **kwargs)\n"
          ]
        },
        {
          "output_type": "stream",
          "name": "stdout",
          "text": [
            "[####                                    ] | 11% Completed | 26.41 s"
          ]
        },
        {
          "output_type": "stream",
          "name": "stderr",
          "text": [
            "/usr/local/lib/python3.10/dist-packages/dask/dataframe/io/csv.py:195: DtypeWarning: Columns (17,21,22,30,31,32,36) have mixed types. Specify dtype option on import or set low_memory=False.\n",
            "  df = reader(bio, **kwargs)\n"
          ]
        },
        {
          "output_type": "stream",
          "name": "stdout",
          "text": [
            "[#########                               ] | 23% Completed | 41.47 s"
          ]
        },
        {
          "output_type": "stream",
          "name": "stderr",
          "text": [
            "/usr/local/lib/python3.10/dist-packages/dask/dataframe/io/csv.py:195: DtypeWarning: Columns (17,21,22,30,31,32,36) have mixed types. Specify dtype option on import or set low_memory=False.\n",
            "  df = reader(bio, **kwargs)\n"
          ]
        },
        {
          "output_type": "stream",
          "name": "stdout",
          "text": [
            "[###########                             ] | 29% Completed | 48.48 s"
          ]
        },
        {
          "output_type": "stream",
          "name": "stderr",
          "text": [
            "/usr/local/lib/python3.10/dist-packages/dask/dataframe/io/csv.py:195: DtypeWarning: Columns (17,21,22,30,31,32,36) have mixed types. Specify dtype option on import or set low_memory=False.\n",
            "  df = reader(bio, **kwargs)\n"
          ]
        },
        {
          "output_type": "stream",
          "name": "stdout",
          "text": [
            "[############                            ] | 32% Completed | 50.38 s"
          ]
        },
        {
          "output_type": "stream",
          "name": "stderr",
          "text": [
            "/usr/local/lib/python3.10/dist-packages/dask/dataframe/io/csv.py:195: DtypeWarning: Columns (17,21,22,30,31,32,36) have mixed types. Specify dtype option on import or set low_memory=False.\n",
            "  df = reader(bio, **kwargs)\n"
          ]
        },
        {
          "output_type": "stream",
          "name": "stdout",
          "text": [
            "[##############                          ] | 35% Completed | 53.79 s"
          ]
        },
        {
          "output_type": "stream",
          "name": "stderr",
          "text": [
            "/usr/local/lib/python3.10/dist-packages/dask/dataframe/io/csv.py:195: DtypeWarning: Columns (21,22,36) have mixed types. Specify dtype option on import or set low_memory=False.\n",
            "  df = reader(bio, **kwargs)\n"
          ]
        },
        {
          "output_type": "stream",
          "name": "stdout",
          "text": [
            "[###############                         ] | 38% Completed | 58.34 s"
          ]
        },
        {
          "output_type": "stream",
          "name": "stderr",
          "text": [
            "/usr/local/lib/python3.10/dist-packages/dask/dataframe/io/csv.py:195: DtypeWarning: Columns (17,21,22,30,31,32,36) have mixed types. Specify dtype option on import or set low_memory=False.\n",
            "  df = reader(bio, **kwargs)\n"
          ]
        },
        {
          "output_type": "stream",
          "name": "stdout",
          "text": [
            "[#################                       ] | 44% Completed | 64.08 s"
          ]
        },
        {
          "output_type": "stream",
          "name": "stderr",
          "text": [
            "/usr/local/lib/python3.10/dist-packages/dask/dataframe/io/csv.py:195: DtypeWarning: Columns (17,21,22,30,31,32,36) have mixed types. Specify dtype option on import or set low_memory=False.\n",
            "  df = reader(bio, **kwargs)\n"
          ]
        },
        {
          "output_type": "stream",
          "name": "stdout",
          "text": [
            "[##################                      ] | 47% Completed | 66.75 s"
          ]
        },
        {
          "output_type": "stream",
          "name": "stderr",
          "text": [
            "/usr/local/lib/python3.10/dist-packages/dask/dataframe/io/csv.py:195: DtypeWarning: Columns (17,21,22,30,31,32,36) have mixed types. Specify dtype option on import or set low_memory=False.\n",
            "  df = reader(bio, **kwargs)\n"
          ]
        },
        {
          "output_type": "stream",
          "name": "stdout",
          "text": [
            "[####################                    ] | 50% Completed | 72.16 s"
          ]
        },
        {
          "output_type": "stream",
          "name": "stderr",
          "text": [
            "/usr/local/lib/python3.10/dist-packages/dask/dataframe/io/csv.py:195: DtypeWarning: Columns (17,21,22,30,31,32,36) have mixed types. Specify dtype option on import or set low_memory=False.\n",
            "  df = reader(bio, **kwargs)\n"
          ]
        },
        {
          "output_type": "stream",
          "name": "stdout",
          "text": [
            "[#####################                   ] | 52% Completed | 74.19 s"
          ]
        },
        {
          "output_type": "stream",
          "name": "stderr",
          "text": [
            "/usr/local/lib/python3.10/dist-packages/dask/dataframe/io/csv.py:195: DtypeWarning: Columns (17,21,22,30,31,32,36) have mixed types. Specify dtype option on import or set low_memory=False.\n",
            "  df = reader(bio, **kwargs)\n"
          ]
        },
        {
          "output_type": "stream",
          "name": "stdout",
          "text": [
            "[######################                  ] | 55% Completed | 78.23 s"
          ]
        },
        {
          "output_type": "stream",
          "name": "stderr",
          "text": [
            "/usr/local/lib/python3.10/dist-packages/dask/dataframe/io/csv.py:195: DtypeWarning: Columns (17,21,22,30,31,32,36) have mixed types. Specify dtype option on import or set low_memory=False.\n",
            "  df = reader(bio, **kwargs)\n"
          ]
        },
        {
          "output_type": "stream",
          "name": "stdout",
          "text": [
            "[#######################                 ] | 58% Completed | 80.27 s"
          ]
        },
        {
          "output_type": "stream",
          "name": "stderr",
          "text": [
            "/usr/local/lib/python3.10/dist-packages/dask/dataframe/io/csv.py:195: DtypeWarning: Columns (17,21,22,30,31,32,36) have mixed types. Specify dtype option on import or set low_memory=False.\n",
            "  df = reader(bio, **kwargs)\n"
          ]
        },
        {
          "output_type": "stream",
          "name": "stdout",
          "text": [
            "[########################                ] | 61% Completed | 85.30 s"
          ]
        },
        {
          "output_type": "stream",
          "name": "stderr",
          "text": [
            "/usr/local/lib/python3.10/dist-packages/dask/dataframe/io/csv.py:195: DtypeWarning: Columns (36) have mixed types. Specify dtype option on import or set low_memory=False.\n",
            "  df = reader(bio, **kwargs)\n"
          ]
        },
        {
          "output_type": "stream",
          "name": "stdout",
          "text": [
            "[#########################               ] | 64% Completed | 87.82 s"
          ]
        },
        {
          "output_type": "stream",
          "name": "stderr",
          "text": [
            "/usr/local/lib/python3.10/dist-packages/dask/dataframe/io/csv.py:195: DtypeWarning: Columns (36) have mixed types. Specify dtype option on import or set low_memory=False.\n",
            "  df = reader(bio, **kwargs)\n"
          ]
        },
        {
          "output_type": "stream",
          "name": "stdout",
          "text": [
            "[###########################             ] | 67% Completed | 91.94 s"
          ]
        },
        {
          "output_type": "stream",
          "name": "stderr",
          "text": [
            "/usr/local/lib/python3.10/dist-packages/dask/dataframe/io/csv.py:195: DtypeWarning: Columns (17,21,22,30,31,32,36) have mixed types. Specify dtype option on import or set low_memory=False.\n",
            "  df = reader(bio, **kwargs)\n"
          ]
        },
        {
          "output_type": "stream",
          "name": "stdout",
          "text": [
            "[#############################           ] | 73% Completed | 99.84 s"
          ]
        },
        {
          "output_type": "stream",
          "name": "stderr",
          "text": [
            "/usr/local/lib/python3.10/dist-packages/dask/dataframe/io/csv.py:195: DtypeWarning: Columns (17,21,22,30,31,32,36) have mixed types. Specify dtype option on import or set low_memory=False.\n",
            "  df = reader(bio, **kwargs)\n"
          ]
        },
        {
          "output_type": "stream",
          "name": "stdout",
          "text": [
            "[##############################          ] | 76% Completed | 102.76 s"
          ]
        },
        {
          "output_type": "stream",
          "name": "stderr",
          "text": [
            "/usr/local/lib/python3.10/dist-packages/dask/dataframe/io/csv.py:195: DtypeWarning: Columns (17,21,22,30,31,32,36) have mixed types. Specify dtype option on import or set low_memory=False.\n",
            "  df = reader(bio, **kwargs)\n"
          ]
        },
        {
          "output_type": "stream",
          "name": "stdout",
          "text": [
            "[###############################         ] | 79% Completed | 104.49 s"
          ]
        },
        {
          "output_type": "stream",
          "name": "stderr",
          "text": [
            "/usr/local/lib/python3.10/dist-packages/dask/dataframe/io/csv.py:195: DtypeWarning: Columns (17,21,22,30,31,32,36) have mixed types. Specify dtype option on import or set low_memory=False.\n",
            "  df = reader(bio, **kwargs)\n"
          ]
        },
        {
          "output_type": "stream",
          "name": "stdout",
          "text": [
            "[################################        ] | 82% Completed | 108.61 s"
          ]
        },
        {
          "output_type": "stream",
          "name": "stderr",
          "text": [
            "/usr/local/lib/python3.10/dist-packages/dask/dataframe/io/csv.py:195: DtypeWarning: Columns (17,22,30,31,32,36) have mixed types. Specify dtype option on import or set low_memory=False.\n",
            "  df = reader(bio, **kwargs)\n"
          ]
        },
        {
          "output_type": "stream",
          "name": "stdout",
          "text": [
            "[##################################      ] | 85% Completed | 113.08 s"
          ]
        },
        {
          "output_type": "stream",
          "name": "stderr",
          "text": [
            "/usr/local/lib/python3.10/dist-packages/dask/dataframe/io/csv.py:195: DtypeWarning: Columns (17,22,30,31,32,36) have mixed types. Specify dtype option on import or set low_memory=False.\n",
            "  df = reader(bio, **kwargs)\n"
          ]
        },
        {
          "output_type": "stream",
          "name": "stdout",
          "text": [
            "[####################################    ] | 91% Completed | 118.28 s"
          ]
        },
        {
          "output_type": "stream",
          "name": "stderr",
          "text": [
            "/usr/local/lib/python3.10/dist-packages/dask/dataframe/io/csv.py:195: DtypeWarning: Columns (36) have mixed types. Specify dtype option on import or set low_memory=False.\n",
            "  df = reader(bio, **kwargs)\n"
          ]
        },
        {
          "output_type": "stream",
          "name": "stdout",
          "text": [
            "[########################################] | 100% Completed | 120.87 s\n"
          ]
        },
        {
          "output_type": "execute_result",
          "data": {
            "text/plain": [
              "Summons Number                         0.000000\n",
              "Plate ID                               0.020363\n",
              "Registration State                     0.000000\n",
              "Plate Type                             0.000000\n",
              "Issue Date                             0.000000\n",
              "Violation Code                         0.000000\n",
              "Vehicle Body Type                      0.369637\n",
              "Vehicle Make                           0.598350\n",
              "Issuing Agency                         0.000000\n",
              "Street Code1                           0.000000\n",
              "Street Code2                           0.000000\n",
              "Street Code3                           0.000000\n",
              "Vehicle Expiration Date                0.000009\n",
              "Violation Location                    17.584208\n",
              "Violation Precinct                     0.000009\n",
              "Issuer Precinct                        0.000009\n",
              "Issuer Code                            0.000009\n",
              "Issuer Command                        17.487293\n",
              "Issuer Squad                          17.491998\n",
              "Violation Time                         0.040275\n",
              "Time First Observed                   89.381051\n",
              "Violation County                      16.138650\n",
              "Violation In Front Of Or Opposite     18.282069\n",
              "House Number                          19.134651\n",
              "Street Name                            0.077859\n",
              "Intersecting Street                   70.654177\n",
              "Date First Observed                    0.000009\n",
              "Law Section                            0.000009\n",
              "Sub Division                           0.035975\n",
              "Violation Legal Code                  82.505800\n",
              "Days Parking In Effect                26.982622\n",
              "From Hours In Effect                  46.825956\n",
              "To Hours In Effect                    46.825956\n",
              "Vehicle Color                          1.222596\n",
              "Unregistered Vehicle?                 89.308302\n",
              "Vehicle Year                           0.000009\n",
              "Meter Number                          82.123760\n",
              "Feet From Curb                         0.000009\n",
              "Violation Post Code                   28.204267\n",
              "Violation Description                 10.721256\n",
              "No Standing or Stopping Violation    100.000000\n",
              "Hydrant Violation                    100.000000\n",
              "Double Parking Violation             100.000000\n",
              "Latitude                             100.000000\n",
              "Longitude                            100.000000\n",
              "Community Board                      100.000000\n",
              "Community Council                    100.000000\n",
              "Census Tract                         100.000000\n",
              "BIN                                  100.000000\n",
              "BBL                                  100.000000\n",
              "NTA                                  100.000000\n",
              "dtype: float64"
            ]
          },
          "metadata": {},
          "execution_count": 14
        }
      ]
    },
    {
      "cell_type": "code",
      "source": [
        "# операция фильтрации разреженных столбцов (более 60% пропущенных значений) и сохраняем оставшиеся\n",
        "columns_to_drop = missing_count_percent[missing_count_percent > 60].index\n",
        "print(columns_to_drop)\n",
        "\n",
        "# drop sparse columns\n",
        "with ProgressBar():\n",
        "    #df_dropped = df.drop(columns_to_drop, axis=1).persist()\n",
        "    df_dropped = df.drop(columns_to_drop, axis=1).compute()"
      ],
      "metadata": {
        "id": "bLzbTa4eaBnN",
        "colab": {
          "base_uri": "https://localhost:8080/"
        },
        "outputId": "b57b6077-b660-454d-c60d-508161bc86dc"
      },
      "execution_count": 15,
      "outputs": [
        {
          "output_type": "stream",
          "name": "stdout",
          "text": [
            "Index(['Time First Observed', 'Intersecting Street', 'Violation Legal Code',\n",
            "       'Unregistered Vehicle?', 'Meter Number',\n",
            "       'No Standing or Stopping Violation', 'Hydrant Violation',\n",
            "       'Double Parking Violation', 'Latitude', 'Longitude', 'Community Board',\n",
            "       'Community Council ', 'Census Tract', 'BIN', 'BBL', 'NTA'],\n",
            "      dtype='string')\n",
            "[                                        ] | 0% Completed | 3.76 s"
          ]
        },
        {
          "output_type": "stream",
          "name": "stderr",
          "text": [
            "/usr/local/lib/python3.10/dist-packages/dask/dataframe/io/csv.py:195: DtypeWarning: Columns (36) have mixed types. Specify dtype option on import or set low_memory=False.\n",
            "  df = reader(bio, **kwargs)\n",
            "/usr/local/lib/python3.10/dist-packages/dask/dataframe/io/csv.py:195: DtypeWarning: Columns (17,21,22,30,31,32,36) have mixed types. Specify dtype option on import or set low_memory=False.\n",
            "  df = reader(bio, **kwargs)\n"
          ]
        },
        {
          "output_type": "stream",
          "name": "stdout",
          "text": [
            "[####                                    ] | 12% Completed | 14.87 s"
          ]
        },
        {
          "output_type": "stream",
          "name": "stderr",
          "text": [
            "/usr/local/lib/python3.10/dist-packages/dask/dataframe/io/csv.py:195: DtypeWarning: Columns (17,21,22,30,31,32,36) have mixed types. Specify dtype option on import or set low_memory=False.\n",
            "  df = reader(bio, **kwargs)\n"
          ]
        },
        {
          "output_type": "stream",
          "name": "stdout",
          "text": [
            "[#########                               ] | 24% Completed | 27.16 s"
          ]
        },
        {
          "output_type": "stream",
          "name": "stderr",
          "text": [
            "/usr/local/lib/python3.10/dist-packages/dask/dataframe/io/csv.py:195: DtypeWarning: Columns (17,21,22,30,31,32,36) have mixed types. Specify dtype option on import or set low_memory=False.\n",
            "  df = reader(bio, **kwargs)\n"
          ]
        },
        {
          "output_type": "stream",
          "name": "stdout",
          "text": [
            "[############                            ] | 30% Completed | 33.92 s"
          ]
        },
        {
          "output_type": "stream",
          "name": "stderr",
          "text": [
            "/usr/local/lib/python3.10/dist-packages/dask/dataframe/io/csv.py:195: DtypeWarning: Columns (17,21,22,30,31,32,36) have mixed types. Specify dtype option on import or set low_memory=False.\n",
            "  df = reader(bio, **kwargs)\n"
          ]
        },
        {
          "output_type": "stream",
          "name": "stdout",
          "text": [
            "[#############                           ] | 33% Completed | 35.24 s"
          ]
        },
        {
          "output_type": "stream",
          "name": "stderr",
          "text": [
            "/usr/local/lib/python3.10/dist-packages/dask/dataframe/io/csv.py:195: DtypeWarning: Columns (17,21,22,30,31,32,36) have mixed types. Specify dtype option on import or set low_memory=False.\n",
            "  df = reader(bio, **kwargs)\n"
          ]
        },
        {
          "output_type": "stream",
          "name": "stdout",
          "text": [
            "[##############                          ] | 36% Completed | 39.30 s"
          ]
        },
        {
          "output_type": "stream",
          "name": "stderr",
          "text": [
            "/usr/local/lib/python3.10/dist-packages/dask/dataframe/io/csv.py:195: DtypeWarning: Columns (21,22,36) have mixed types. Specify dtype option on import or set low_memory=False.\n",
            "  df = reader(bio, **kwargs)\n"
          ]
        },
        {
          "output_type": "stream",
          "name": "stdout",
          "text": [
            "[###############                         ] | 39% Completed | 40.64 s"
          ]
        },
        {
          "output_type": "stream",
          "name": "stderr",
          "text": [
            "/usr/local/lib/python3.10/dist-packages/dask/dataframe/io/csv.py:195: DtypeWarning: Columns (17,21,22,30,31,32,36) have mixed types. Specify dtype option on import or set low_memory=False.\n",
            "  df = reader(bio, **kwargs)\n"
          ]
        },
        {
          "output_type": "stream",
          "name": "stdout",
          "text": [
            "[################                        ] | 42% Completed | 46.70 s"
          ]
        },
        {
          "output_type": "stream",
          "name": "stderr",
          "text": [
            "/usr/local/lib/python3.10/dist-packages/dask/dataframe/io/csv.py:195: DtypeWarning: Columns (17,21,22,30,31,32,36) have mixed types. Specify dtype option on import or set low_memory=False.\n",
            "  df = reader(bio, **kwargs)\n"
          ]
        },
        {
          "output_type": "stream",
          "name": "stdout",
          "text": [
            "[###################                     ] | 48% Completed | 51.45 s"
          ]
        },
        {
          "output_type": "stream",
          "name": "stderr",
          "text": [
            "/usr/local/lib/python3.10/dist-packages/dask/dataframe/io/csv.py:195: DtypeWarning: Columns (17,21,22,30,31,32,36) have mixed types. Specify dtype option on import or set low_memory=False.\n",
            "  df = reader(bio, **kwargs)\n"
          ]
        },
        {
          "output_type": "stream",
          "name": "stdout",
          "text": [
            "[####################                    ] | 51% Completed | 52.87 s"
          ]
        },
        {
          "output_type": "stream",
          "name": "stderr",
          "text": [
            "/usr/local/lib/python3.10/dist-packages/dask/dataframe/io/csv.py:195: DtypeWarning: Columns (17,21,22,30,31,32,36) have mixed types. Specify dtype option on import or set low_memory=False.\n",
            "  df = reader(bio, **kwargs)\n"
          ]
        },
        {
          "output_type": "stream",
          "name": "stdout",
          "text": [
            "[#####################                   ] | 54% Completed | 56.93 s"
          ]
        },
        {
          "output_type": "stream",
          "name": "stderr",
          "text": [
            "/usr/local/lib/python3.10/dist-packages/dask/dataframe/io/csv.py:195: DtypeWarning: Columns (17,21,22,30,31,32,36) have mixed types. Specify dtype option on import or set low_memory=False.\n",
            "  df = reader(bio, **kwargs)\n"
          ]
        },
        {
          "output_type": "stream",
          "name": "stdout",
          "text": [
            "[#####################                   ] | 54% Completed | 57.18 s"
          ]
        },
        {
          "output_type": "stream",
          "name": "stderr",
          "text": [
            "/usr/local/lib/python3.10/dist-packages/dask/dataframe/io/csv.py:195: DtypeWarning: Columns (17,21,22,30,31,32,36) have mixed types. Specify dtype option on import or set low_memory=False.\n",
            "  df = reader(bio, **kwargs)\n"
          ]
        },
        {
          "output_type": "stream",
          "name": "stdout",
          "text": [
            "[########################                ] | 60% Completed | 63.68 s"
          ]
        },
        {
          "output_type": "stream",
          "name": "stderr",
          "text": [
            "/usr/local/lib/python3.10/dist-packages/dask/dataframe/io/csv.py:195: DtypeWarning: Columns (17,21,22,30,31,32,36) have mixed types. Specify dtype option on import or set low_memory=False.\n",
            "  df = reader(bio, **kwargs)\n"
          ]
        },
        {
          "output_type": "stream",
          "name": "stdout",
          "text": [
            "[#########################               ] | 63% Completed | 64.94 s"
          ]
        },
        {
          "output_type": "stream",
          "name": "stderr",
          "text": [
            "/usr/local/lib/python3.10/dist-packages/dask/dataframe/io/csv.py:195: DtypeWarning: Columns (36) have mixed types. Specify dtype option on import or set low_memory=False.\n",
            "  df = reader(bio, **kwargs)\n"
          ]
        },
        {
          "output_type": "stream",
          "name": "stdout",
          "text": [
            "[##########################              ] | 66% Completed | 69.00 s"
          ]
        },
        {
          "output_type": "stream",
          "name": "stderr",
          "text": [
            "/usr/local/lib/python3.10/dist-packages/dask/dataframe/io/csv.py:195: DtypeWarning: Columns (36) have mixed types. Specify dtype option on import or set low_memory=False.\n",
            "  df = reader(bio, **kwargs)\n"
          ]
        },
        {
          "output_type": "stream",
          "name": "stdout",
          "text": [
            "[###########################             ] | 69% Completed | 70.39 s"
          ]
        },
        {
          "output_type": "stream",
          "name": "stderr",
          "text": [
            "/usr/local/lib/python3.10/dist-packages/dask/dataframe/io/csv.py:195: DtypeWarning: Columns (17,21,22,30,31,32,36) have mixed types. Specify dtype option on import or set low_memory=False.\n",
            "  df = reader(bio, **kwargs)\n"
          ]
        },
        {
          "output_type": "stream",
          "name": "stdout",
          "text": [
            "[##############################          ] | 75% Completed | 77.24 s"
          ]
        },
        {
          "output_type": "stream",
          "name": "stderr",
          "text": [
            "/usr/local/lib/python3.10/dist-packages/dask/dataframe/io/csv.py:195: DtypeWarning: Columns (17,21,22,30,31,32,36) have mixed types. Specify dtype option on import or set low_memory=False.\n",
            "  df = reader(bio, **kwargs)\n"
          ]
        },
        {
          "output_type": "stream",
          "name": "stdout",
          "text": [
            "[###############################         ] | 78% Completed | 80.57 s"
          ]
        },
        {
          "output_type": "stream",
          "name": "stderr",
          "text": [
            "/usr/local/lib/python3.10/dist-packages/dask/dataframe/io/csv.py:195: DtypeWarning: Columns (17,21,22,30,31,32,36) have mixed types. Specify dtype option on import or set low_memory=False.\n",
            "  df = reader(bio, **kwargs)\n"
          ]
        },
        {
          "output_type": "stream",
          "name": "stdout",
          "text": [
            "[################################        ] | 81% Completed | 82.35 s"
          ]
        },
        {
          "output_type": "stream",
          "name": "stderr",
          "text": [
            "/usr/local/lib/python3.10/dist-packages/dask/dataframe/io/csv.py:195: DtypeWarning: Columns (17,21,22,30,31,32,36) have mixed types. Specify dtype option on import or set low_memory=False.\n",
            "  df = reader(bio, **kwargs)\n"
          ]
        },
        {
          "output_type": "stream",
          "name": "stdout",
          "text": [
            "[#################################       ] | 84% Completed | 86.37 s"
          ]
        },
        {
          "output_type": "stream",
          "name": "stderr",
          "text": [
            "/usr/local/lib/python3.10/dist-packages/dask/dataframe/io/csv.py:195: DtypeWarning: Columns (17,22,30,31,32,36) have mixed types. Specify dtype option on import or set low_memory=False.\n",
            "  df = reader(bio, **kwargs)\n"
          ]
        },
        {
          "output_type": "stream",
          "name": "stdout",
          "text": [
            "[###################################     ] | 87% Completed | 88.55 s"
          ]
        },
        {
          "output_type": "stream",
          "name": "stderr",
          "text": [
            "/usr/local/lib/python3.10/dist-packages/dask/dataframe/io/csv.py:195: DtypeWarning: Columns (17,22,30,31,32,36) have mixed types. Specify dtype option on import or set low_memory=False.\n",
            "  df = reader(bio, **kwargs)\n"
          ]
        },
        {
          "output_type": "stream",
          "name": "stdout",
          "text": [
            "[#####################################   ] | 93% Completed | 93.60 s"
          ]
        },
        {
          "output_type": "stream",
          "name": "stderr",
          "text": [
            "/usr/local/lib/python3.10/dist-packages/dask/dataframe/io/csv.py:195: DtypeWarning: Columns (36) have mixed types. Specify dtype option on import or set low_memory=False.\n",
            "  df = reader(bio, **kwargs)\n"
          ]
        },
        {
          "output_type": "stream",
          "name": "stdout",
          "text": [
            "[########################################] | 100% Completed | 97.19 s\n"
          ]
        }
      ]
    }
  ]
}