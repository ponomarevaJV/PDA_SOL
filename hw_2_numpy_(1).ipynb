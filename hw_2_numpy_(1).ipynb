{
  "cells": [
    {
      "cell_type": "markdown",
      "metadata": {
        "id": "view-in-github",
        "colab_type": "text"
      },
      "source": [
        "<a href=\"https://colab.research.google.com/github/ponomarevaJV/PDA_SOL/blob/main/hw_2_numpy_(1).ipynb\" target=\"_parent\"><img src=\"https://colab.research.google.com/assets/colab-badge.svg\" alt=\"Open In Colab\"/></a>"
      ]
    },
    {
      "cell_type": "markdown",
      "metadata": {
        "id": "OzwBEYXhC_tW"
      },
      "source": [
        "# Самостоятельная работа 2. Numpy\n",
        "\n",
        "1. Скачайте этот ноутбук к себе.\n",
        "2. Заполните пропущенные ячейки, отвечая на заданные вопросы. Там должен быть код! (если не сказано обратное)\n",
        "3. Сохраните результат в своём гитхаб репозитории.\n",
        "\n",
        "#### Полезная литература\n",
        "\n",
        "- http://www.numpy.org/\n",
        "- https://jakevdp.github.io/PythonDataScienceHandbook/02.00-introduction-to-numpy.html\n",
        "- https://docs.scipy.org/doc/numpy/user/quickstart.html"
      ]
    },
    {
      "cell_type": "markdown",
      "metadata": {
        "id": "fKS7r51XC_tc"
      },
      "source": [
        "1) Импортировать numpy и написать версию"
      ]
    },
    {
      "cell_type": "code",
      "execution_count": 1,
      "metadata": {
        "colab": {
          "base_uri": "https://localhost:8080/"
        },
        "id": "gzGxIcqaC_tg",
        "outputId": "edcac25d-ead6-4259-8570-25bedd3f1f6c"
      },
      "outputs": [
        {
          "output_type": "stream",
          "name": "stdout",
          "text": [
            "Version:n 1.23.5 \n",
            "\n"
          ]
        }
      ],
      "source": [
        "import numpy as np\n",
        "print ('Version:n',np.__version__,'\\n')\n",
        "\n"
      ]
    },
    {
      "cell_type": "markdown",
      "metadata": {
        "id": "ALimbfMTC_th"
      },
      "source": [
        "2) Создать нулевой вектор размера 10"
      ]
    },
    {
      "cell_type": "code",
      "execution_count": 2,
      "metadata": {
        "colab": {
          "base_uri": "https://localhost:8080/"
        },
        "id": "Vk2BaUUCC_ti",
        "outputId": "5b643953-c51b-437c-fe14-80e0fc7e1265"
      },
      "outputs": [
        {
          "output_type": "stream",
          "name": "stdout",
          "text": [
            "[0. 0. 0. 0. 0. 0. 0. 0. 0. 0.]\n"
          ]
        }
      ],
      "source": [
        "import numpy as np\n",
        "x = np.zeros(10)\n",
        "print(x)"
      ]
    },
    {
      "cell_type": "markdown",
      "metadata": {
        "id": "NSAJXurjC_tj"
      },
      "source": [
        "3) Создать вектор заполненный 7-ами размера 7"
      ]
    },
    {
      "cell_type": "code",
      "execution_count": 3,
      "metadata": {
        "colab": {
          "base_uri": "https://localhost:8080/"
        },
        "id": "ifbZgJxYC_tl",
        "outputId": "c26e1c4d-b790-4c74-fc0f-dbb256aab4b1"
      },
      "outputs": [
        {
          "output_type": "stream",
          "name": "stdout",
          "text": [
            "[7 7 7 7 7 7 7]\n"
          ]
        }
      ],
      "source": [
        "import numpy as np\n",
        "x = np.full(7,7)\n",
        "print(x)\n",
        "\n"
      ]
    },
    {
      "cell_type": "markdown",
      "metadata": {
        "id": "2UNv3XEmC_tm"
      },
      "source": [
        "4) Создать вектор заполненный четными числами от 10 до 100"
      ]
    },
    {
      "cell_type": "code",
      "execution_count": 4,
      "metadata": {
        "id": "XzMa-kQmC_to",
        "colab": {
          "base_uri": "https://localhost:8080/"
        },
        "outputId": "133edfb9-32f9-41cd-d723-e92a96dd83a2"
      },
      "outputs": [
        {
          "output_type": "stream",
          "name": "stdout",
          "text": [
            "[10 12 14 16 18 20 22 24 26 28 30 32 34 36 38 40 42 44 46 48 50 52 54 56\n",
            " 58 60 62 64 66 68 70 72 74 76 78 80 82 84 86 88 90 92 94 96 98]\n"
          ]
        }
      ],
      "source": [
        "import numpy as np\n",
        "x= np.arange (10,100,2)\n",
        "print (x)"
      ]
    },
    {
      "cell_type": "markdown",
      "metadata": {
        "id": "RDfIK4JqC_tp"
      },
      "source": [
        "5) Создать массив случайных чисел и развернуть его задом наперёд"
      ]
    },
    {
      "cell_type": "code",
      "execution_count": 7,
      "metadata": {
        "id": "HxoVhQlfC_tq",
        "colab": {
          "base_uri": "https://localhost:8080/"
        },
        "outputId": "aa345768-5c60-4539-8327-fb99aab700c8"
      },
      "outputs": [
        {
          "output_type": "stream",
          "name": "stdout",
          "text": [
            "[0.46159967 0.62023895 0.38039715 0.48516809 0.25065509]\n",
            "[0.25065509 0.48516809 0.38039715 0.62023895 0.46159967]\n"
          ]
        }
      ],
      "source": [
        "import numpy as np\n",
        "x = np.random.rand(5)\n",
        "print(x)\n",
        "y = x[::-1]\n",
        "print(y)"
      ]
    },
    {
      "cell_type": "markdown",
      "metadata": {
        "id": "7b41JSjKC_tr"
      },
      "source": [
        "6) Создать двумерную матрицу размера 3 на 3, заполненную числами от 0 до 9"
      ]
    },
    {
      "cell_type": "code",
      "execution_count": 8,
      "metadata": {
        "id": "qUjE9ucAC_tr",
        "colab": {
          "base_uri": "https://localhost:8080/"
        },
        "outputId": "69099296-7ac4-42a9-c5fb-e3f4a05569b7"
      },
      "outputs": [
        {
          "output_type": "stream",
          "name": "stdout",
          "text": [
            "[[0 1 2]\n",
            " [3 4 5]\n",
            " [6 7 8]]\n"
          ]
        }
      ],
      "source": [
        "import numpy as np\n",
        "x = np.arange (9).reshape(3,3)\n",
        "print(x)"
      ]
    },
    {
      "cell_type": "markdown",
      "metadata": {
        "id": "77AHiWi8C_ts"
      },
      "source": [
        "7) Создать матрицу размера 4 на 4 с единицами на диагонали смещеной на один наверх."
      ]
    },
    {
      "cell_type": "code",
      "execution_count": 9,
      "metadata": {
        "id": "4rT8G-v1C_ts",
        "colab": {
          "base_uri": "https://localhost:8080/"
        },
        "outputId": "b837e87b-9d5a-4544-df73-1b679bd10858"
      },
      "outputs": [
        {
          "output_type": "stream",
          "name": "stdout",
          "text": [
            "[[1. 0. 0. 0.]\n",
            " [0. 1. 0. 0.]\n",
            " [0. 0. 1. 0.]\n",
            " [0. 0. 0. 1.]]\n"
          ]
        }
      ],
      "source": [
        "import numpy as np\n",
        "x = np.eye (4)\n",
        "print (x)"
      ]
    },
    {
      "cell_type": "markdown",
      "metadata": {
        "id": "wghf_IvGC_tt"
      },
      "source": [
        "8) Создать матрицу с числами в диапазоне от 1 до 4 по диагонали. В других ячейках матрицы должны быть семерки."
      ]
    },
    {
      "cell_type": "code",
      "execution_count": 10,
      "metadata": {
        "id": "sDJZRYFrC_tu",
        "colab": {
          "base_uri": "https://localhost:8080/"
        },
        "outputId": "e9091330-7562-4a77-a5be-a2055c272be9"
      },
      "outputs": [
        {
          "output_type": "stream",
          "name": "stdout",
          "text": [
            "[[1 7 7 7]\n",
            " [7 2 7 7]\n",
            " [7 7 3 7]\n",
            " [7 7 7 4]]\n"
          ]
        }
      ],
      "source": [
        "import numpy as np\n",
        "x = np.diag([1, 2, 3, 4])\n",
        "x[x ==0] = 7\n",
        "print(x)"
      ]
    },
    {
      "cell_type": "markdown",
      "metadata": {
        "id": "NfuMZsJkC_tu"
      },
      "source": [
        "9) Создать матрицу размера 5 на 5 заполненную чилами от 0 до 4 в строках."
      ]
    },
    {
      "cell_type": "code",
      "execution_count": 11,
      "metadata": {
        "id": "odliPiPFC_tv",
        "colab": {
          "base_uri": "https://localhost:8080/"
        },
        "outputId": "6222eb10-0b9d-49da-e11e-bc866b681628"
      },
      "outputs": [
        {
          "output_type": "stream",
          "name": "stdout",
          "text": [
            "[[0. 1. 2. 3. 4.]\n",
            " [0. 1. 2. 3. 4.]\n",
            " [0. 1. 2. 3. 4.]\n",
            " [0. 1. 2. 3. 4.]\n",
            " [0. 1. 2. 3. 4.]]\n"
          ]
        }
      ],
      "source": [
        "import numpy as np\n",
        "x = np.zeros((5,5))\n",
        "x += np.arange(5)\n",
        "print(x)"
      ]
    },
    {
      "cell_type": "markdown",
      "metadata": {
        "id": "4mptL3kGC_tw"
      },
      "source": [
        "10) Создать матрицу случайных чисел размера 10 на 10 и отнять среднее по строкам из каждого элемента строки"
      ]
    },
    {
      "cell_type": "code",
      "execution_count": 12,
      "metadata": {
        "id": "LSsE00GHC_tw",
        "colab": {
          "base_uri": "https://localhost:8080/"
        },
        "outputId": "ff8f01e8-4b3b-49eb-e4ec-cadb5dd64035"
      },
      "outputs": [
        {
          "output_type": "stream",
          "name": "stdout",
          "text": [
            "[[0.29740432 0.10520882 0.4165201  0.34269295 0.03294529 0.63029827\n",
            "  0.80710987 0.285157   0.31303914 0.28099383]\n",
            " [0.28412445 0.51715122 0.71707033 0.49498794 0.95680712 0.3038855\n",
            "  0.56908446 0.82608482 0.6437121  0.10694234]\n",
            " [0.10489843 0.17599304 0.78521769 0.19271901 0.58972102 0.90268081\n",
            "  0.30220627 0.16897252 0.70895499 0.3960304 ]\n",
            " [0.24281646 0.47075413 0.49090618 0.92014394 0.30135076 0.71072118\n",
            "  0.55587155 0.17159407 0.3042134  0.16101777]\n",
            " [0.82818349 0.03958069 0.75518469 0.85596309 0.29291547 0.87670027\n",
            "  0.82709425 0.15841355 0.26538206 0.00396961]\n",
            " [0.14515213 0.1127477  0.75843211 0.50311616 0.5355366  0.64455251\n",
            "  0.65278174 0.1446351  0.96741435 0.866281  ]\n",
            " [0.68286428 0.8179517  0.62045291 0.82993022 0.97726814 0.33444356\n",
            "  0.33306592 0.53503058 0.22079285 0.47638965]\n",
            " [0.19849932 0.91529002 0.7827386  0.96799879 0.16228935 0.5495787\n",
            "  0.16992722 0.64151875 0.89191957 0.02294842]\n",
            " [0.77399624 0.64357172 0.3938338  0.33947004 0.14757614 0.50263603\n",
            "  0.67089399 0.27771966 0.94029326 0.4758082 ]\n",
            " [0.32898971 0.30985282 0.90973252 0.56203959 0.43011797 0.41475471\n",
            "  0.96498516 0.46152828 0.43006439 0.90381266]]\n",
            "[[-0.05373264 -0.24592814  0.06538314 -0.00844401 -0.31819167  0.27916131\n",
            "   0.45597291 -0.06597996 -0.03809782 -0.07014313]\n",
            " [-0.25786057 -0.02483381  0.1750853  -0.04699709  0.4148221  -0.23809953\n",
            "   0.02709943  0.28409979  0.10172707 -0.43504269]\n",
            " [-0.32784099 -0.25674638  0.35247827 -0.2400204   0.1569816   0.46994139\n",
            "  -0.13053315 -0.2637669   0.27621557 -0.03670902]\n",
            " [-0.19012249  0.03781518  0.05796724  0.487205   -0.13158819  0.27778224\n",
            "   0.12293261 -0.26134487 -0.12872555 -0.27192117]\n",
            " [ 0.33784477 -0.45075802  0.26484597  0.36562437 -0.19742325  0.38636156\n",
            "   0.33675554 -0.33192517 -0.22495666 -0.48636911]\n",
            " [-0.38791281 -0.42031724  0.22536718 -0.02994878  0.00247166  0.11148757\n",
            "   0.1197168  -0.38842984  0.43434941  0.33321606]\n",
            " [ 0.1000453   0.23513272  0.03763393  0.24711124  0.39444916 -0.24837542\n",
            "  -0.24975306 -0.04778841 -0.36202614 -0.10642933]\n",
            " [-0.33177156  0.38501915  0.25246772  0.43772792 -0.36798152  0.01930783\n",
            "  -0.36034365  0.11124787  0.36164869 -0.50732245]\n",
            " [ 0.25741633  0.12699181 -0.12274611 -0.17710987 -0.36900377 -0.01394387\n",
            "   0.15431408 -0.23886025  0.42371335 -0.04077171]\n",
            " [-0.24259807 -0.26173496  0.33814474 -0.00954819 -0.14146981 -0.15683308\n",
            "   0.39339738 -0.1100595  -0.1415234   0.33222488]]\n"
          ]
        }
      ],
      "source": [
        "import numpy as np\n",
        "x = np.random.rand (10, 10)\n",
        "print (x)\n",
        "y = x - x.mean(axis=1, keepdims=True)\n",
        "print(y)"
      ]
    },
    {
      "cell_type": "markdown",
      "metadata": {
        "id": "uIxjRLueC_tx"
      },
      "source": [
        "11) Создать матрицу случайных чисел размера 10 на 10 и отнять медиану по столбцам из каждого элемента столбца  "
      ]
    },
    {
      "cell_type": "code",
      "execution_count": 13,
      "metadata": {
        "id": "bmBYBZDKC_ty",
        "colab": {
          "base_uri": "https://localhost:8080/"
        },
        "outputId": "77d2027b-6068-4b4f-9f3d-c0f5e56f7800"
      },
      "outputs": [
        {
          "output_type": "stream",
          "name": "stdout",
          "text": [
            "[[0.5214202  0.63473732 0.55975908 0.82758995 0.51768382 0.42928132\n",
            "  0.08365973 0.86865979 0.78162645 0.2984906 ]\n",
            " [0.97994907 0.83937808 0.78516502 0.766775   0.46846727 0.57912101\n",
            "  0.42407584 0.01530223 0.22053065 0.89035419]\n",
            " [0.93761386 0.13084212 0.80110035 0.5219866  0.00945934 0.19240385\n",
            "  0.75165214 0.257652   0.81447356 0.41153041]\n",
            " [0.40111637 0.57785062 0.8458534  0.56520546 0.80744151 0.4937092\n",
            "  0.83503724 0.30603601 0.60162345 0.17162151]\n",
            " [0.38934961 0.76950124 0.30951223 0.05090189 0.37212259 0.25083793\n",
            "  0.8263372  0.61635668 0.46663325 0.91929157]\n",
            " [0.92440234 0.81315452 0.24907768 0.93746807 0.44363379 0.09922093\n",
            "  0.75126534 0.89693463 0.70755416 0.12113444]\n",
            " [0.21056394 0.6821636  0.95157647 0.37925368 0.63511342 0.74743859\n",
            "  0.01875444 0.03955333 0.90643375 0.88913482]\n",
            " [0.29511536 0.31296733 0.79651333 0.44521293 0.34903963 0.7683845\n",
            "  0.26551025 0.39558184 0.34308334 0.29069734]\n",
            " [0.97396567 0.3173879  0.65834626 0.84427189 0.41477176 0.52403745\n",
            "  0.5435208  0.38747768 0.77036317 0.72644123]\n",
            " [0.79966771 0.8031924  0.76653499 0.67752775 0.903529   0.27783572\n",
            "  0.26023445 0.22416796 0.03117169 0.38368813]]\n",
            "[[-0.13912376 -0.02371314 -0.21609092  0.20622334  0.06163329 -0.03221394\n",
            "  -0.40013859  0.52190295  0.12703765 -0.09911867]\n",
            " [ 0.31940511  0.18092762  0.00931501  0.14540839  0.01241674  0.11762575\n",
            "  -0.05972248 -0.33145461 -0.43405815  0.49274493]\n",
            " [ 0.2770699  -0.52760834  0.02525035 -0.09938    -0.44659119 -0.26909141\n",
            "   0.26785382 -0.08910485  0.15988476  0.01392114]\n",
            " [-0.25942759 -0.08059984  0.0700034  -0.05616115  0.35139098  0.03221394\n",
            "   0.35123892 -0.04072084 -0.05296535 -0.22598776]\n",
            " [-0.27119434  0.11105078 -0.46633777 -0.57046471 -0.08392794 -0.21065733\n",
            "   0.34253888  0.26959984 -0.18795555  0.52168231]\n",
            " [ 0.26385838  0.15470406 -0.52677232  0.31610146 -0.01241674 -0.36227433\n",
            "   0.26746702  0.55017778  0.05296535 -0.27647483]\n",
            " [-0.44998002  0.02371314  0.17572647 -0.24211293  0.17906289  0.28594333\n",
            "  -0.46504388 -0.30720351  0.25184494  0.49152555]\n",
            " [-0.3654286  -0.34548313  0.02066333 -0.17615368 -0.1070109   0.30688924\n",
            "  -0.21828807  0.048825   -0.31150547 -0.10691193]\n",
            " [ 0.31342171 -0.34106256 -0.11750374  0.22290528 -0.04127877  0.06254219\n",
            "   0.05972248  0.04072084  0.11577436  0.32883196]\n",
            " [ 0.13912376  0.14474194 -0.00931501  0.05616115  0.44747847 -0.18365954\n",
            "  -0.22356387 -0.12258888 -0.62341711 -0.01392114]]\n"
          ]
        }
      ],
      "source": [
        "import numpy as np\n",
        "x = np.random.rand (10, 10)\n",
        "print (x)\n",
        "y = np.median(x, axis=0)\n",
        "b= x-y\n",
        "print (b)"
      ]
    },
    {
      "cell_type": "markdown",
      "metadata": {
        "id": "65gujwTGC_ty"
      },
      "source": [
        "12) Создать матрицу случайных чисел 5x5. Добавить к ней столбецы максимумов и минимумов по строкам. Получится матрица 5x7.  "
      ]
    },
    {
      "cell_type": "code",
      "execution_count": 14,
      "metadata": {
        "id": "2rpPHMLTC_ty",
        "colab": {
          "base_uri": "https://localhost:8080/"
        },
        "outputId": "953651ca-c11b-4ba1-e589-07d075f41519"
      },
      "outputs": [
        {
          "output_type": "stream",
          "name": "stdout",
          "text": [
            "[[0.64089725 0.96483912 0.33817926 0.1285531  0.66535742]\n",
            " [0.86086805 0.14309335 0.23927697 0.43542013 0.00293862]\n",
            " [0.20108579 0.61751393 0.84295859 0.16274554 0.12602488]\n",
            " [0.65656875 0.11515992 0.93682818 0.74710314 0.70069247]\n",
            " [0.86160712 0.37297534 0.74261828 0.74306238 0.12024866]]\n",
            "[[0.64089725 0.96483912 0.33817926 0.1285531  0.66535742]\n",
            " [0.86086805 0.14309335 0.23927697 0.43542013 0.00293862]\n",
            " [0.20108579 0.61751393 0.84295859 0.16274554 0.12602488]\n",
            " [0.65656875 0.11515992 0.93682818 0.74710314 0.70069247]\n",
            " [0.86160712 0.37297534 0.74261828 0.74306238 0.12024866]\n",
            " [0.1285531  0.00293862 0.12602488 0.11515992 0.12024866]\n",
            " [0.86160712 0.96483912 0.93682818 0.74710314 0.70069247]]\n"
          ]
        }
      ],
      "source": [
        "import numpy as np\n",
        "x = np.random.rand (5, 5)\n",
        "print (x)\n",
        "a = np.amin(x, axis=1)\n",
        "b = np.amax(x, axis=0)\n",
        "c = np.vstack ([a,b])\n",
        "d = np.vstack ((x,c))\n",
        "print(d)"
      ]
    },
    {
      "cell_type": "markdown",
      "metadata": {
        "id": "ox4bP4oWC_ty"
      },
      "source": [
        "13) Вектор чисел от 1 до 51 преобразовать в вектор нечетных чисел и в вектор четных чисел, поменять их размерности, чтобы получились две матрица. Найти произведение этих матриц. Найти обратную матрицу эётого произведения.  "
      ]
    },
    {
      "cell_type": "code",
      "execution_count": 18,
      "metadata": {
        "id": "cc3_rfMsC_tz",
        "colab": {
          "base_uri": "https://localhost:8080/",
          "height": 772
        },
        "outputId": "2a77558a-99df-4847-fce5-3c21decff8a5"
      },
      "outputs": [
        {
          "output_type": "stream",
          "name": "stdout",
          "text": [
            "[ 1  2  3  4  5  6  7  8  9 10 11 12 13 14 15 16 17 18 19 20 21 22 23 24\n",
            " 25 26 27 28 29 30 31 32 33 34 35 36 37 38 39 40 41 42 43 44 45 46 47 48\n",
            " 49 50]\n",
            "[2, 4, 6, 8, 10, 12, 14, 16, 18, 20, 22, 24, 26, 28, 30, 32, 34, 36, 38, 40, 42, 44, 46, 48, 50]\n",
            "[1, 3, 5, 7, 9, 11, 13, 15, 17, 19, 21, 23, 25, 27, 29, 31, 33, 35, 37, 39, 41, 43, 45, 47, 49]\n",
            "[ 1  3  5  7  9 11 13 15 17 19 21 23 25 27 29 31 33 35 37 39 41 43 45 47\n",
            " 49]\n",
            "[ 2  4  6  8 10 12 14 16 18 20 22 24 26 28 30 32 34 36 38 40 42 44 46 48\n",
            " 50]\n",
            "[[ 1  3  5  7  9]\n",
            " [11 13 15 17 19]\n",
            " [21 23 25 27 29]\n",
            " [31 33 35 37 39]\n",
            " [41 43 45 47 49]]\n",
            "[[ 2  4  6  8 10]\n",
            " [12 14 16 18 20]\n",
            " [22 24 26 28 30]\n",
            " [32 34 36 38 40]\n",
            " [42 44 46 48 50]]\n",
            "[[ 830  890  950 1010 1070]\n",
            " [1880 2040 2200 2360 2520]\n",
            " [2930 3190 3450 3710 3970]\n",
            " [3980 4340 4700 5060 5420]\n",
            " [5030 5490 5950 6410 6870]]\n"
          ]
        },
        {
          "output_type": "error",
          "ename": "LinAlgError",
          "evalue": "ignored",
          "traceback": [
            "\u001b[0;31m---------------------------------------------------------------------------\u001b[0m",
            "\u001b[0;31mLinAlgError\u001b[0m                               Traceback (most recent call last)",
            "\u001b[0;32m<ipython-input-18-d2b2f07bfaf1>\u001b[0m in \u001b[0;36m<cell line: 18>\u001b[0;34m()\u001b[0m\n\u001b[1;32m     16\u001b[0m \u001b[0mg\u001b[0m \u001b[0;34m=\u001b[0m \u001b[0mnp\u001b[0m\u001b[0;34m.\u001b[0m\u001b[0mmatmul\u001b[0m\u001b[0;34m(\u001b[0m\u001b[0md\u001b[0m\u001b[0;34m,\u001b[0m \u001b[0mc\u001b[0m\u001b[0;34m)\u001b[0m\u001b[0;34m\u001b[0m\u001b[0;34m\u001b[0m\u001b[0m\n\u001b[1;32m     17\u001b[0m \u001b[0mprint\u001b[0m\u001b[0;34m(\u001b[0m\u001b[0mg\u001b[0m\u001b[0;34m)\u001b[0m\u001b[0;34m\u001b[0m\u001b[0;34m\u001b[0m\u001b[0m\n\u001b[0;32m---> 18\u001b[0;31m \u001b[0mp\u001b[0m \u001b[0;34m=\u001b[0m \u001b[0mnp\u001b[0m\u001b[0;34m.\u001b[0m\u001b[0mlinalg\u001b[0m\u001b[0;34m.\u001b[0m\u001b[0minv\u001b[0m\u001b[0;34m(\u001b[0m\u001b[0mg\u001b[0m\u001b[0;34m)\u001b[0m\u001b[0;34m\u001b[0m\u001b[0;34m\u001b[0m\u001b[0m\n\u001b[0m",
            "\u001b[0;32m/usr/local/lib/python3.10/dist-packages/numpy/core/overrides.py\u001b[0m in \u001b[0;36minv\u001b[0;34m(*args, **kwargs)\u001b[0m\n",
            "\u001b[0;32m/usr/local/lib/python3.10/dist-packages/numpy/linalg/linalg.py\u001b[0m in \u001b[0;36minv\u001b[0;34m(a)\u001b[0m\n\u001b[1;32m    550\u001b[0m     \u001b[0msignature\u001b[0m \u001b[0;34m=\u001b[0m \u001b[0;34m'D->D'\u001b[0m \u001b[0;32mif\u001b[0m \u001b[0misComplexType\u001b[0m\u001b[0;34m(\u001b[0m\u001b[0mt\u001b[0m\u001b[0;34m)\u001b[0m \u001b[0;32melse\u001b[0m \u001b[0;34m'd->d'\u001b[0m\u001b[0;34m\u001b[0m\u001b[0;34m\u001b[0m\u001b[0m\n\u001b[1;32m    551\u001b[0m     \u001b[0mextobj\u001b[0m \u001b[0;34m=\u001b[0m \u001b[0mget_linalg_error_extobj\u001b[0m\u001b[0;34m(\u001b[0m\u001b[0m_raise_linalgerror_singular\u001b[0m\u001b[0;34m)\u001b[0m\u001b[0;34m\u001b[0m\u001b[0;34m\u001b[0m\u001b[0m\n\u001b[0;32m--> 552\u001b[0;31m     \u001b[0mainv\u001b[0m \u001b[0;34m=\u001b[0m \u001b[0m_umath_linalg\u001b[0m\u001b[0;34m.\u001b[0m\u001b[0minv\u001b[0m\u001b[0;34m(\u001b[0m\u001b[0ma\u001b[0m\u001b[0;34m,\u001b[0m \u001b[0msignature\u001b[0m\u001b[0;34m=\u001b[0m\u001b[0msignature\u001b[0m\u001b[0;34m,\u001b[0m \u001b[0mextobj\u001b[0m\u001b[0;34m=\u001b[0m\u001b[0mextobj\u001b[0m\u001b[0;34m)\u001b[0m\u001b[0;34m\u001b[0m\u001b[0;34m\u001b[0m\u001b[0m\n\u001b[0m\u001b[1;32m    553\u001b[0m     \u001b[0;32mreturn\u001b[0m \u001b[0mwrap\u001b[0m\u001b[0;34m(\u001b[0m\u001b[0mainv\u001b[0m\u001b[0;34m.\u001b[0m\u001b[0mastype\u001b[0m\u001b[0;34m(\u001b[0m\u001b[0mresult_t\u001b[0m\u001b[0;34m,\u001b[0m \u001b[0mcopy\u001b[0m\u001b[0;34m=\u001b[0m\u001b[0;32mFalse\u001b[0m\u001b[0;34m)\u001b[0m\u001b[0;34m)\u001b[0m\u001b[0;34m\u001b[0m\u001b[0;34m\u001b[0m\u001b[0m\n\u001b[1;32m    554\u001b[0m \u001b[0;34m\u001b[0m\u001b[0m\n",
            "\u001b[0;32m/usr/local/lib/python3.10/dist-packages/numpy/linalg/linalg.py\u001b[0m in \u001b[0;36m_raise_linalgerror_singular\u001b[0;34m(err, flag)\u001b[0m\n\u001b[1;32m     87\u001b[0m \u001b[0;34m\u001b[0m\u001b[0m\n\u001b[1;32m     88\u001b[0m \u001b[0;32mdef\u001b[0m \u001b[0m_raise_linalgerror_singular\u001b[0m\u001b[0;34m(\u001b[0m\u001b[0merr\u001b[0m\u001b[0;34m,\u001b[0m \u001b[0mflag\u001b[0m\u001b[0;34m)\u001b[0m\u001b[0;34m:\u001b[0m\u001b[0;34m\u001b[0m\u001b[0;34m\u001b[0m\u001b[0m\n\u001b[0;32m---> 89\u001b[0;31m     \u001b[0;32mraise\u001b[0m \u001b[0mLinAlgError\u001b[0m\u001b[0;34m(\u001b[0m\u001b[0;34m\"Singular matrix\"\u001b[0m\u001b[0;34m)\u001b[0m\u001b[0;34m\u001b[0m\u001b[0;34m\u001b[0m\u001b[0m\n\u001b[0m\u001b[1;32m     90\u001b[0m \u001b[0;34m\u001b[0m\u001b[0m\n\u001b[1;32m     91\u001b[0m \u001b[0;32mdef\u001b[0m \u001b[0m_raise_linalgerror_nonposdef\u001b[0m\u001b[0;34m(\u001b[0m\u001b[0merr\u001b[0m\u001b[0;34m,\u001b[0m \u001b[0mflag\u001b[0m\u001b[0;34m)\u001b[0m\u001b[0;34m:\u001b[0m\u001b[0;34m\u001b[0m\u001b[0;34m\u001b[0m\u001b[0m\n",
            "\u001b[0;31mLinAlgError\u001b[0m: Singular matrix"
          ]
        }
      ],
      "source": [
        "import numpy as np\n",
        "x= np.arange (1,51)\n",
        "print (x)\n",
        "a = [x for x in x if x % 2 == 0]\n",
        "print(a)\n",
        "b = [x for x in x if x % 2 != 0]\n",
        "print(b)\n",
        "y=np.arange (1,51,2)\n",
        "print(y)\n",
        "z = np.arange (2,51,2)\n",
        "print(z)\n",
        "c= y.reshape((5,5))\n",
        "print(c)\n",
        "d = z.reshape((5,5))\n",
        "print(d)\n",
        "g = np.matmul(d, c)\n",
        "print(g)\n",
        "p = np.linalg.inv(g) -  матрицу невозможно найти, так как детерминант матрицы равен нулю (Singular matrix)"
      ]
    },
    {
      "cell_type": "markdown",
      "metadata": {
        "id": "jJkgRlVjC_tz"
      },
      "source": [
        "14) Создать 8x8 матрицу и заполнить её в шахматном порядке нулями и единицами."
      ]
    },
    {
      "cell_type": "code",
      "execution_count": 15,
      "metadata": {
        "id": "T6YArAcFC_tz",
        "colab": {
          "base_uri": "https://localhost:8080/"
        },
        "outputId": "3a174230-6fec-42cd-95df-7e4693a82bf3"
      },
      "outputs": [
        {
          "output_type": "stream",
          "name": "stdout",
          "text": [
            "[[0. 1. 0. 1. 0. 1. 0. 1.]\n",
            " [1. 0. 1. 0. 1. 0. 1. 0.]\n",
            " [0. 1. 0. 1. 0. 1. 0. 1.]\n",
            " [1. 0. 1. 0. 1. 0. 1. 0.]\n",
            " [0. 1. 0. 1. 0. 1. 0. 1.]\n",
            " [1. 0. 1. 0. 1. 0. 1. 0.]\n",
            " [0. 1. 0. 1. 0. 1. 0. 1.]\n",
            " [1. 0. 1. 0. 1. 0. 1. 0.]]\n"
          ]
        }
      ],
      "source": [
        "import numpy as np\n",
        "x = np.zeros((8, 8))\n",
        "x[::2, 1::2] = 1\n",
        "x[1::2, ::2] = 1\n",
        "print(x)"
      ]
    }
  ],
  "metadata": {
    "kernelspec": {
      "display_name": "Python 3",
      "language": "python",
      "name": "python3"
    },
    "language_info": {
      "codemirror_mode": {
        "name": "ipython",
        "version": 3
      },
      "file_extension": ".py",
      "mimetype": "text/x-python",
      "name": "python",
      "nbconvert_exporter": "python",
      "pygments_lexer": "ipython3",
      "version": "3.8.0"
    },
    "colab": {
      "provenance": [],
      "include_colab_link": true
    }
  },
  "nbformat": 4,
  "nbformat_minor": 0
}