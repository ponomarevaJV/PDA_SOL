{
  "cells": [
    {
      "cell_type": "markdown",
      "metadata": {
        "id": "view-in-github",
        "colab_type": "text"
      },
      "source": [
        "<a href=\"https://colab.research.google.com/github/ponomarevaJV/PDA_SOL/blob/main/%D0%9F%D0%97%203%20%E2%84%96%202.ipynb\" target=\"_parent\"><img src=\"https://colab.research.google.com/assets/colab-badge.svg\" alt=\"Open In Colab\"/></a>"
      ]
    },
    {
      "cell_type": "markdown",
      "metadata": {
        "id": "rg-FKkhnp4LP"
      },
      "source": [
        "# Линейная алгебра с Numpy\n",
        "\n",
        "С помощью [Sympy](http://www.sympy.org/en/index.html) можно выполнять символьную линейную алгебру, но для числовых вычислений [Numpy](http://www.numpy.org/) является высокопроизводительная библиотека, которую следует использовать при решении математических и инженерныхзадач.\n",
        "\n",
        "Описание:\n",
        "\n",
        "> NumPy — это фундаментальный пакет для научных вычислений на Python. Он содержит, среди прочего: [...]\n",
        " линейную алгебру, преобразование Фурье и теорию вероятностей.\n",
        "\n",
        "В этом разделе научимся, как:\n",
        "\n",
        "- работать с матрицами;\n",
        "- решать матричные уравнения;\n",
        "- рассчитывать обратную матрицу и определители.\n",
        "\n",
        "## Работа с матрицами\n",
        "\n",
        "Создать матрицу с помощью Numpy несложно. В качестве примера рассмотрим следующее:\n",
        "\n",
        "$$\n",
        "A = \\begin{pmatrix}\n",
        "5 & 6 & 2\\\\\n",
        "4 & 7 & 19\\\\\n",
        "0 & 3 & 12\n",
        "\\end{pmatrix}\n",
        "$$\n",
        "\n",
        "$$\n",
        "B = \\begin{pmatrix}\n",
        "14 & -2 & 12\\\\\n",
        "4 & 4 & 5\\\\\n",
        "5 & 5 & 1\n",
        "\\end{pmatrix}\n",
        "$$\n",
        "\n",
        "\n",
        "Сначала, как и в Sympy, нам нужно импортировать Numpy:"
      ]
    },
    {
      "cell_type": "code",
      "execution_count": 1,
      "metadata": {
        "collapsed": true,
        "id": "vxXrjUFEp4LR"
      },
      "outputs": [],
      "source": [
        "import numpy as np"
      ]
    },
    {
      "cell_type": "markdown",
      "metadata": {
        "id": "5LnPuC3Tp4LT"
      },
      "source": [
        "Теперь можем определить $A$:"
      ]
    },
    {
      "cell_type": "code",
      "execution_count": 2,
      "metadata": {
        "collapsed": true,
        "id": "-KCCC20_p4LT"
      },
      "outputs": [],
      "source": [
        "A = np.matrix([[5, 6, 2],\n",
        "               [4, 7, 19],\n",
        "               [0, 3, 12]])"
      ]
    },
    {
      "cell_type": "code",
      "execution_count": 3,
      "metadata": {
        "id": "PI2zlZBNp4LT",
        "colab": {
          "base_uri": "https://localhost:8080/"
        },
        "outputId": "e02af6e8-8049-4ea3-a2a3-0f2c396062f5"
      },
      "outputs": [
        {
          "output_type": "execute_result",
          "data": {
            "text/plain": [
              "matrix([[ 5,  6,  2],\n",
              "        [ 4,  7, 19],\n",
              "        [ 0,  3, 12]])"
            ]
          },
          "metadata": {},
          "execution_count": 3
        }
      ],
      "source": [
        "A"
      ]
    },
    {
      "cell_type": "code",
      "execution_count": 4,
      "metadata": {
        "collapsed": true,
        "id": "Y519asZrp4LU"
      },
      "outputs": [],
      "source": [
        "B = np.matrix([[14, -2, 12],\n",
        "               [4, 4, 5],\n",
        "               [5, 5, 1]])"
      ]
    },
    {
      "cell_type": "code",
      "execution_count": 5,
      "metadata": {
        "id": "x5pVDdO7p4LV",
        "colab": {
          "base_uri": "https://localhost:8080/"
        },
        "outputId": "2083529e-21fe-4aa4-f95a-7521a6dc6b4d"
      },
      "outputs": [
        {
          "output_type": "execute_result",
          "data": {
            "text/plain": [
              "matrix([[14, -2, 12],\n",
              "        [ 4,  4,  5],\n",
              "        [ 5,  5,  1]])"
            ]
          },
          "metadata": {},
          "execution_count": 5
        }
      ],
      "source": [
        "B"
      ]
    },
    {
      "cell_type": "markdown",
      "metadata": {
        "id": "aS8Wd7u2p4LV"
      },
      "source": [
        "Можно получить как следствие:\n",
        "\n",
        "- $5A$ (или любое другое скалярное число, кратное $A$);\n",
        "- $A ^ 3$ (или любой другой показатель $A$);\n",
        "- $A + B$;\n",
        "- $A - B$;\n",
        "- $AB$"
      ]
    },
    {
      "cell_type": "code",
      "execution_count": 6,
      "metadata": {
        "id": "GLBGRLLgp4LV",
        "colab": {
          "base_uri": "https://localhost:8080/"
        },
        "outputId": "c1a06f96-4819-4ac8-c8af-bb2afaaa9e6b"
      },
      "outputs": [
        {
          "output_type": "execute_result",
          "data": {
            "text/plain": [
              "matrix([[25, 30, 10],\n",
              "        [20, 35, 95],\n",
              "        [ 0, 15, 60]])"
            ]
          },
          "metadata": {},
          "execution_count": 6
        }
      ],
      "source": [
        "5 * A"
      ]
    },
    {
      "cell_type": "code",
      "execution_count": 7,
      "metadata": {
        "id": "GoIhIqMsp4LV",
        "colab": {
          "base_uri": "https://localhost:8080/"
        },
        "outputId": "b43092bf-ad88-4c8d-c633-e5caeb3874e3"
      },
      "outputs": [
        {
          "output_type": "execute_result",
          "data": {
            "text/plain": [
              "matrix([[ 557, 1284, 3356],\n",
              "        [ 760, 2305, 6994],\n",
              "        [ 288, 1074, 3519]])"
            ]
          },
          "metadata": {},
          "execution_count": 7
        }
      ],
      "source": [
        "A ** 3"
      ]
    },
    {
      "cell_type": "code",
      "execution_count": 8,
      "metadata": {
        "id": "Va-q4y9pp4LV",
        "colab": {
          "base_uri": "https://localhost:8080/"
        },
        "outputId": "5960facb-e952-412b-ffe9-c6bf78a7d45e"
      },
      "outputs": [
        {
          "output_type": "execute_result",
          "data": {
            "text/plain": [
              "matrix([[19,  4, 14],\n",
              "        [ 8, 11, 24],\n",
              "        [ 5,  8, 13]])"
            ]
          },
          "metadata": {},
          "execution_count": 8
        }
      ],
      "source": [
        "A + B"
      ]
    },
    {
      "cell_type": "code",
      "execution_count": 9,
      "metadata": {
        "id": "0hT4cYEJp4LV",
        "colab": {
          "base_uri": "https://localhost:8080/"
        },
        "outputId": "d5b96a6d-8758-4705-d7fc-88e84f707176"
      },
      "outputs": [
        {
          "output_type": "execute_result",
          "data": {
            "text/plain": [
              "matrix([[ -9,   8, -10],\n",
              "        [  0,   3,  14],\n",
              "        [ -5,  -2,  11]])"
            ]
          },
          "metadata": {},
          "execution_count": 9
        }
      ],
      "source": [
        "A - B"
      ]
    },
    {
      "cell_type": "code",
      "execution_count": 10,
      "metadata": {
        "id": "RClISg_tp4LW",
        "colab": {
          "base_uri": "https://localhost:8080/"
        },
        "outputId": "0355cf12-39dd-4117-aacf-4e956bb65a1e"
      },
      "outputs": [
        {
          "output_type": "execute_result",
          "data": {
            "text/plain": [
              "matrix([[104,  24,  92],\n",
              "        [179, 115, 102],\n",
              "        [ 72,  72,  27]])"
            ]
          },
          "metadata": {},
          "execution_count": 10
        }
      ],
      "source": [
        "A * B"
      ]
    },
    {
      "cell_type": "code",
      "source": [
        "A = np.matrix([[1, -1],\n",
        "               [2,1]])"
      ],
      "metadata": {
        "id": "bzeS9IGkqiZh"
      },
      "execution_count": null,
      "outputs": []
    },
    {
      "cell_type": "code",
      "source": [
        "A"
      ],
      "metadata": {
        "colab": {
          "base_uri": "https://localhost:8080/"
        },
        "id": "jlyN8H_sqm8z",
        "outputId": "77fde065-f75f-43bd-e570-cb8ef2aedf58"
      },
      "execution_count": 13,
      "outputs": [
        {
          "output_type": "execute_result",
          "data": {
            "text/plain": [
              "matrix([[ 1, -1],\n",
              "        [ 2,  1]])"
            ]
          },
          "metadata": {},
          "execution_count": 13
        }
      ]
    },
    {
      "cell_type": "code",
      "source": [
        "A**2-2*A+3"
      ],
      "metadata": {
        "colab": {
          "base_uri": "https://localhost:8080/"
        },
        "id": "WuCSsYUjqpvH",
        "outputId": "bbeb2521-6847-461f-9166-4dcb6dc6c021"
      },
      "execution_count": 15,
      "outputs": [
        {
          "output_type": "execute_result",
          "data": {
            "text/plain": [
              "matrix([[0, 3],\n",
              "        [3, 0]])"
            ]
          },
          "metadata": {},
          "execution_count": 15
        }
      ]
    },
    {
      "cell_type": "markdown",
      "metadata": {
        "id": "2HUiofl3p4LW"
      },
      "source": [
        "---\n",
        "\n",
        "**УПРАЖНЕНИЕ 1** Решить $A ^ 2 – 2 A + 3$ с помощью:\n",
        "\n",
        "$$A =\n",
        "\\begin{pmatrix}\n",
        "1 & -1\\\\\n",
        "2 & 1\n",
        "\\end{pmatrix}\n",
        "$$\n",
        "\n",
        "---\n",
        "\n",
        "## Решение матричных уравнений\n",
        "\n",
        "Можно использовать Numpy для (эффективного) решения больших систем уравнений вида:\n",
        "\n",
        "$$Ax=b$$\n",
        "\n",
        "Проиллюстрируем это:\n",
        "\n",
        "$$\n",
        "A = \\begin{pmatrix}\n",
        "5 & 6 & 2\\\\\n",
        "4 & 7 & 19\\\\\n",
        "0 & 3 & 12\n",
        "\\end{pmatrix}\n",
        "$$\n",
        "\n",
        "$$\n",
        "b = \\begin{pmatrix}\n",
        "-1\\\\\n",
        "2\\\\\n",
        "1\n",
        "\\end{pmatrix}\n",
        "$$"
      ]
    },
    {
      "cell_type": "code",
      "execution_count": 31,
      "metadata": {
        "collapsed": true,
        "id": "BKRBLJdlp4LW"
      },
      "outputs": [],
      "source": [
        "A = np.matrix([[5, 6, 2],\n",
        "               [4, 7, 19],\n",
        "               [0, 3, 12]])\n",
        "b = np.matrix([[-1], [2], [1]])"
      ]
    },
    {
      "cell_type": "markdown",
      "metadata": {
        "id": "Cy-8-9Lrp4LW"
      },
      "source": [
        "Мы используем команду `linalg.solve`:"
      ]
    },
    {
      "cell_type": "code",
      "execution_count": 32,
      "metadata": {
        "id": "S28mhHKup4LW",
        "colab": {
          "base_uri": "https://localhost:8080/"
        },
        "outputId": "72a3d272-d834-40c5-f242-b0140af790fa"
      },
      "outputs": [
        {
          "output_type": "execute_result",
          "data": {
            "text/plain": [
              "matrix([[ 0.45736434],\n",
              "        [-0.62790698],\n",
              "        [ 0.24031008]])"
            ]
          },
          "metadata": {},
          "execution_count": 32
        }
      ],
      "source": [
        "x = np.linalg.solve(A, b)\n",
        "x"
      ]
    },
    {
      "cell_type": "markdown",
      "metadata": {
        "id": "OvYF3ugDp4LW"
      },
      "source": [
        "Проверим результат:"
      ]
    },
    {
      "cell_type": "code",
      "execution_count": null,
      "metadata": {
        "id": "b3MEe9nhp4LX"
      },
      "outputs": [],
      "source": [
        "A * x"
      ]
    },
    {
      "cell_type": "code",
      "source": [
        "B = np.matrix([[14, -2, 12],\n",
        "               [4, 4, 5],\n",
        "               [5, 5, 1]])\n",
        "b = np.matrix([[-1], [2], [1]])"
      ],
      "metadata": {
        "id": "nFQsnqZdtjjw"
      },
      "execution_count": 34,
      "outputs": []
    },
    {
      "cell_type": "code",
      "source": [
        "x = np.linalg.solve(B, b)\n",
        "x"
      ],
      "metadata": {
        "colab": {
          "base_uri": "https://localhost:8080/"
        },
        "id": "R3W03MmIwP4k",
        "outputId": "9aae9926-2223-404a-bfa6-fe0171871ae6"
      },
      "execution_count": 35,
      "outputs": [
        {
          "output_type": "execute_result",
          "data": {
            "text/plain": [
              "matrix([[-0.25892857],\n",
              "        [ 0.40178571],\n",
              "        [ 0.28571429]])"
            ]
          },
          "metadata": {},
          "execution_count": 35
        }
      ]
    },
    {
      "cell_type": "code",
      "source": [
        "B*x"
      ],
      "metadata": {
        "colab": {
          "base_uri": "https://localhost:8080/"
        },
        "id": "ts_VF4zbwUMX",
        "outputId": "e1081d53-36ff-4288-d409-8334afb3400a"
      },
      "execution_count": 36,
      "outputs": [
        {
          "output_type": "execute_result",
          "data": {
            "text/plain": [
              "matrix([[-1.],\n",
              "        [ 2.],\n",
              "        [ 1.]])"
            ]
          },
          "metadata": {},
          "execution_count": 36
        }
      ]
    },
    {
      "cell_type": "markdown",
      "metadata": {
        "id": "SqJWo3igp4LX"
      },
      "source": [
        "---\n",
        "**УПРАЖНЕНИЕ 2** Найти решение матричного уравнения $Bx=b$ (используя $B$).\n",
        "\n",
        "---\n",
        "\n",
        "## Обратные матрицы и определители\n",
        "\n",
        "Найдем обратную матрицу:"
      ]
    },
    {
      "cell_type": "code",
      "execution_count": null,
      "metadata": {
        "id": "40ZnMcmYp4LX"
      },
      "outputs": [],
      "source": [
        "Ainv = np.linalg.inv(A)\n",
        "Ainv"
      ]
    },
    {
      "cell_type": "markdown",
      "metadata": {
        "id": "2P56AFdPp4LX"
      },
      "source": [
        "Проверка $A^{-1}A=\\mathbb{1}$:"
      ]
    },
    {
      "cell_type": "code",
      "execution_count": null,
      "metadata": {
        "tags": [
          "nbval-ignore-output"
        ],
        "id": "E0w8uSJ1p4LX"
      },
      "outputs": [],
      "source": [
        "A * Ainv"
      ]
    },
    {
      "cell_type": "markdown",
      "metadata": {
        "id": "ODJ_7muxp4LX"
      },
      "source": [
        "Казалось бы, что матрица не единичная, однако по главной  `1` , а на всех остальных позициях **очень** маленькие числа (однако для компьютера это `0`)."
      ]
    },
    {
      "cell_type": "markdown",
      "metadata": {
        "id": "gPcR_9X9p4LX"
      },
      "source": [
        "Вычислим детерминант:"
      ]
    },
    {
      "cell_type": "code",
      "execution_count": null,
      "metadata": {
        "tags": [
          "nbval-ignore-output"
        ],
        "id": "KxY9zOm_p4LY"
      },
      "outputs": [],
      "source": [
        "np.linalg.det(A)"
      ]
    },
    {
      "cell_type": "code",
      "source": [
        "B = np.matrix([[14, -2, 12],\n",
        "               [4, 4, 5],\n",
        "               [5, 5, 1]])"
      ],
      "metadata": {
        "id": "LMe9BJZUwpZ_"
      },
      "execution_count": null,
      "outputs": []
    },
    {
      "cell_type": "code",
      "source": [
        "Binv = np.linalg.inv(B)\n",
        "Binv"
      ],
      "metadata": {
        "colab": {
          "base_uri": "https://localhost:8080/"
        },
        "id": "6ks-nrgXxqcj",
        "outputId": "6d143925-eb58-4322-f238-6e5b74209b07"
      },
      "execution_count": 42,
      "outputs": [
        {
          "output_type": "execute_result",
          "data": {
            "text/plain": [
              "matrix([[ 6.25000000e-02, -1.84523810e-01,  1.72619048e-01],\n",
              "        [-6.25000000e-02,  1.36904762e-01,  6.54761905e-02],\n",
              "        [-1.09511795e-17,  2.38095238e-01, -1.90476190e-01]])"
            ]
          },
          "metadata": {},
          "execution_count": 42
        }
      ]
    },
    {
      "cell_type": "code",
      "source": [
        "np.linalg.det(B)"
      ],
      "metadata": {
        "colab": {
          "base_uri": "https://localhost:8080/"
        },
        "id": "X5zraJUbzWU6",
        "outputId": "b9227075-1aba-4850-934d-f393812b026c"
      },
      "execution_count": 41,
      "outputs": [
        {
          "output_type": "execute_result",
          "data": {
            "text/plain": [
              "-336.0"
            ]
          },
          "metadata": {},
          "execution_count": 41
        }
      ]
    },
    {
      "cell_type": "markdown",
      "metadata": {
        "id": "zKh5JnsWp4LY"
      },
      "source": [
        "---\n",
        "\n",
        "**УПРАЖНЕНИЕ 2** Вычислите обратную матрицу и определитель $B$ (ранее уже находили).\n",
        "\n",
        "---"
      ]
    }
  ],
  "metadata": {
    "anaconda-cloud": {},
    "celltoolbar": "Tags",
    "kernelspec": {
      "display_name": "Python [conda env:mwp]",
      "language": "python",
      "name": "conda-env-mwp-py"
    },
    "language_info": {
      "codemirror_mode": {
        "name": "ipython",
        "version": 3
      },
      "file_extension": ".py",
      "mimetype": "text/x-python",
      "name": "python",
      "nbconvert_exporter": "python",
      "pygments_lexer": "ipython3",
      "version": "3.7.0"
    },
    "colab": {
      "provenance": [],
      "include_colab_link": true
    }
  },
  "nbformat": 4,
  "nbformat_minor": 0
}