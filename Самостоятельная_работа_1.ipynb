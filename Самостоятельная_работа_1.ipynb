{
  "nbformat": 4,
  "nbformat_minor": 0,
  "metadata": {
    "colab": {
      "provenance": [],
      "authorship_tag": "ABX9TyODAMYBeD27Omrtt685gtA8",
      "include_colab_link": true
    },
    "kernelspec": {
      "name": "python3",
      "display_name": "Python 3"
    },
    "language_info": {
      "name": "python"
    }
  },
  "cells": [
    {
      "cell_type": "markdown",
      "metadata": {
        "id": "view-in-github",
        "colab_type": "text"
      },
      "source": [
        "<a href=\"https://colab.research.google.com/github/ponomarevaJV/PDA_SOL/blob/main/%D0%A1%D0%B0%D0%BC%D0%BE%D1%81%D1%82%D0%BE%D1%8F%D1%82%D0%B5%D0%BB%D1%8C%D0%BD%D0%B0%D1%8F_%D1%80%D0%B0%D0%B1%D0%BE%D1%82%D0%B0_1.ipynb\" target=\"_parent\"><img src=\"https://colab.research.google.com/assets/colab-badge.svg\" alt=\"Open In Colab\"/></a>"
      ]
    },
    {
      "cell_type": "code",
      "execution_count": null,
      "metadata": {
        "colab": {
          "base_uri": "https://localhost:8080/"
        },
        "id": "vqRcCfZL53Na",
        "outputId": "573eff37-280b-4cf3-a209-a07a916b6f53"
      },
      "outputs": [
        {
          "output_type": "stream",
          "name": "stdout",
          "text": [
            "П\n",
            "о\n",
            "н\n",
            "о\n",
            "м\n",
            "а\n",
            "р\n",
            "е\n",
            "в\n",
            "а\n",
            " \n",
            "Ю\n",
            "л\n",
            "и\n",
            "я\n",
            " \n",
            "В\n",
            "л\n",
            "а\n",
            "д\n",
            "и\n",
            "м\n",
            "и\n",
            "р\n",
            "о\n",
            "в\n",
            "н\n",
            "а\n"
          ]
        }
      ],
      "source": [
        "name= \"Пономарева Юлия Владимировна\"\n",
        "for letter in name:\n",
        "  print(letter)"
      ]
    },
    {
      "cell_type": "code",
      "source": [
        "k = 1.54\n",
        "Kd = float(input(\"Введите количество рублей  \"))\n",
        "d= (k*Kd)\n",
        "op = round(d,2)\n",
        "print(\"Сумма вашего перевода из рублей в йены = \", end=' ' )\n",
        "print(\" \", op)\n"
      ],
      "metadata": {
        "colab": {
          "base_uri": "https://localhost:8080/"
        },
        "id": "nSIZATCuOvNV",
        "outputId": "dc2527a4-67b4-43d6-f5f5-a92e716457d2"
      },
      "execution_count": 39,
      "outputs": [
        {
          "output_type": "stream",
          "name": "stdout",
          "text": [
            "Введите количество рублей  83\n",
            "Сумма вашего перевода из рублей в йены =    127.82\n"
          ]
        }
      ]
    },
    {
      "cell_type": "code",
      "source": [
        "\n"
      ],
      "metadata": {
        "id": "8tVB7Se3Y1Xb"
      },
      "execution_count": null,
      "outputs": []
    }
  ]
}